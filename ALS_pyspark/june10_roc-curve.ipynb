{
 "cells": [
  {
   "cell_type": "code",
   "execution_count": 10,
   "metadata": {},
   "outputs": [],
   "source": [
    "import findspark\n",
    "\n",
    "findspark.init()\n",
    "\n",
    "import os\n",
    "import sys\n",
    "from pyspark.rdd import RDD\n",
    "from pyspark.sql import Row\n",
    "from pyspark.sql import DataFrame\n",
    "from pyspark.sql import SparkSession\n",
    "from pyspark.sql.functions import lit\n",
    "from pyspark.sql.functions import desc\n",
    "from pyspark.ml.evaluation import RegressionEvaluator\n",
    "from pyspark.ml.recommendation import ALS\n",
    "from pyspark.sql.functions import when, lit, col\n",
    "import matplotlib.pyplot as plt\n",
    "import pandas as pd\n",
    "import numpy as np\n",
    "#from sklearn.model_selection import StratifiedKFold\n",
    "from sklearn.model_selection import KFold\n",
    "from pyspark.ml.recommendation import ALS, ALSModel\n",
    "### ALSModel.load(\"modelSaveOut\")"
   ]
  },
  {
   "cell_type": "code",
   "execution_count": 2,
   "metadata": {},
   "outputs": [],
   "source": [
    "def init_spark():\n",
    "    spark = SparkSession \\\n",
    "        .builder \\\n",
    "        .appName(\"Python Spark SQL Pipeline Recommender\") \\\n",
    "        .config(\"spark.some.config.option\", \"some-value\") \\\n",
    "        .getOrCreate()\n",
    "    return spark\n",
    "\n",
    "spark = init_spark()\n"
   ]
  },
  {
   "cell_type": "code",
   "execution_count": 3,
   "metadata": {},
   "outputs": [
    {
     "name": "stdout",
     "output_type": "stream",
     "text": [
      "<generator object _BaseKFold.split at 0x000001CDA2C35E58>\n"
     ]
    }
   ],
   "source": [
    "fold_num = 10\n",
    "\n",
    "kf = KFold(n_splits=fold_num,shuffle=True)\n",
    "df = pd.read_csv('pairs_main.csv')\n",
    "print(kf.split(df))"
   ]
  },
  {
   "cell_type": "code",
   "execution_count": 4,
   "metadata": {},
   "outputs": [],
   "source": [
    "als = ALS(maxIter=5, regParam=0.01, userCol=\"pipeline\", itemCol=\"dataset\",ratingCol=\"status\", coldStartStrategy=\"drop\", rank=10, seed=2020)\n"
   ]
  },
  {
   "cell_type": "code",
   "execution_count": 5,
   "metadata": {},
   "outputs": [],
   "source": [
    "allFolds = []\n",
    "for k in range (fold_num):\n",
    "    result = next(kf.split(df), None)\n",
    "    allFolds.append(result)\n",
    "    #print(result[1])\n",
    "\n",
    "\n"
   ]
  },
  {
   "cell_type": "code",
   "execution_count": 6,
   "metadata": {},
   "outputs": [],
   "source": [
    "#thre_TPR_FPR = pd.DataFrame(columns = ['threshold','avg_TPR','avg_FPR'])\n"
   ]
  },
  {
   "cell_type": "code",
   "execution_count": 7,
   "metadata": {},
   "outputs": [],
   "source": [
    "def TPR_FPR(predictions):\n",
    "    Posetive_class2 = predictions[predictions['status'] == 2]\n",
    "    Negative_class1 = predictions[predictions['status'] == 1]\n",
    "    TP_df = predictions[(predictions['status'] == 2) & (predictions['pred_class'] == 2)]\n",
    "    FP_df = predictions[(predictions['status'] == 1) & (predictions['pred_class'] == 2)]\n",
    "    TN_df = predictions[(predictions['status'] == 1) & (predictions['pred_class'] == 1)]\n",
    "    FN_df = predictions[(predictions['status'] == 2) & (predictions['pred_class'] == 1)]\n",
    "\n",
    "    TPR = TP_df.shape[0]/Posetive_class2.shape[0]\n",
    "    FPR = FP_df.shape[0]/Negative_class1.shape[0]\n",
    "    return TPR,FPR"
   ]
  },
  {
   "cell_type": "code",
   "execution_count": 8,
   "metadata": {},
   "outputs": [],
   "source": [
    "def allThresholds(allFoldsPredictions):#,minTh,maxTh):\n",
    "    thre_TPR_FPR = pd.DataFrame(columns = ['threshold','avg_TPR','avg_FPR'])\n",
    "\n",
    "    all_avg_TPR = []\n",
    "    all_avg_FPR = []\n",
    "    i = 0\n",
    "    for threshold in np.arange(-0.1,2.4,0.1):\n",
    "        TPR_list = []\n",
    "        FPR_list = []\n",
    "        for predictions in allFoldsPredictions:  #add pred_class column to predictions DF\n",
    "            #classifiedDF = predictions.withColumn(\"pred_class\", when(col(\"prediction\") >= threshold ,lit(2)).otherwise(lit(1)))\n",
    "            predictions.loc[predictions['prediction'] <= threshold, 'pred_class'] = 1 \n",
    "            predictions.loc[predictions['prediction'] > threshold, 'pred_class'] = 2\n",
    "            \n",
    "            TPR,FPR = TPR_FPR(predictions)\n",
    "            TPR_list.append(TPR)\n",
    "            FPR_list.append(FPR)\n",
    "        avg_TPR = sum(TPR_list)/len(TPR_list)\n",
    "        all_avg_TPR.append(avg_TPR)\n",
    "        avg_FPR = sum(FPR_list)/len(FPR_list)\n",
    "        all_avg_FPR.append(avg_FPR)\n",
    "        print(\"threshold\", threshold,\"avg_TPR\",avg_TPR,\"avg_FPR: \",avg_FPR)\n",
    "        #thre_TPR_FPR = thre_TPR_FPR.append({'threshold':threshold,'avg_TPR': avg_TPR ,'avg_FPR': avg_FPR}, ignore_index = True)\n",
    "        \n",
    "    return all_avg_TPR,all_avg_FPR"
   ]
  },
  {
   "cell_type": "code",
   "execution_count": 34,
   "metadata": {},
   "outputs": [
    {
     "name": "stdout",
     "output_type": "stream",
     "text": [
      "+--------+-------+------+----------+\n",
      "|pipeline|dataset|status|prediction|\n",
      "+--------+-------+------+----------+\n",
      "+--------+-------+------+----------+\n",
      "\n"
     ]
    }
   ],
   "source": [
    "column_names = \"pipeline|dataset|status|prediction\" \n",
    "\n",
    "all_appended_predictions = spark.createDataFrame(\n",
    "  [\n",
    "    tuple('' for i in column_names.split(\"|\"))\n",
    "  ],\n",
    "  column_names.split(\"|\")\n",
    ").where(\"1=0\")\n",
    "\n",
    "all_appended_predictions.show()"
   ]
  },
  {
   "cell_type": "code",
   "execution_count": 9,
   "metadata": {},
   "outputs": [
    {
     "name": "stdout",
     "output_type": "stream",
     "text": [
      "round  0\n",
      "+--------+-------+------+----------+\n",
      "|pipeline|dataset|status|prediction|\n",
      "+--------+-------+------+----------+\n",
      "|      31|      1|     1| 0.3837454|\n",
      "|      28|      1|     1| 0.5353072|\n",
      "|      24|     13|     2| 1.8534912|\n",
      "|       4|      6|     1|0.77039564|\n",
      "|      12|     16|     2| 1.2579799|\n",
      "+--------+-------+------+----------+\n",
      "only showing top 5 rows\n",
      "\n",
      "round  1\n",
      "+--------+-------+------+----------+\n",
      "|pipeline|dataset|status|prediction|\n",
      "+--------+-------+------+----------+\n",
      "|       7|     12|     1| 1.0109104|\n",
      "|      14|     12|     1|0.83291256|\n",
      "|      21|      1|     1|0.66735977|\n",
      "|      26|     13|     2| 1.8319668|\n",
      "|      14|     13|     2|0.96535176|\n",
      "+--------+-------+------+----------+\n",
      "only showing top 5 rows\n",
      "\n",
      "round  2\n",
      "+--------+-------+------+----------+\n",
      "|pipeline|dataset|status|prediction|\n",
      "+--------+-------+------+----------+\n",
      "|       3|     12|     1|0.62086886|\n",
      "|      16|     13|     2| 2.0804346|\n",
      "|       4|     13|     1| 1.1109697|\n",
      "|       7|     13|     2|  2.148474|\n",
      "|      28|      6|     2|0.66952693|\n",
      "+--------+-------+------+----------+\n",
      "only showing top 5 rows\n",
      "\n",
      "round  3\n",
      "+--------+-------+------+----------+\n",
      "|pipeline|dataset|status|prediction|\n",
      "+--------+-------+------+----------+\n",
      "|      16|     13|     2| 1.9448826|\n",
      "|      20|     13|     1| 1.1029048|\n",
      "|      18|     13|     2| 1.5488563|\n",
      "|      26|      6|     1| 1.7749255|\n",
      "|      20|      6|     1| 0.9158351|\n",
      "+--------+-------+------+----------+\n",
      "only showing top 5 rows\n",
      "\n",
      "round  4\n",
      "+--------+-------+------+----------+\n",
      "|pipeline|dataset|status|prediction|\n",
      "+--------+-------+------+----------+\n",
      "|       1|     12|     1| 1.2804999|\n",
      "|      12|     13|     2| 1.9556876|\n",
      "|      16|     13|     2|  2.089436|\n",
      "|      24|     13|     2| 1.9880834|\n",
      "|       3|      6|     1| 0.9215021|\n",
      "+--------+-------+------+----------+\n",
      "only showing top 5 rows\n",
      "\n",
      "round  5\n",
      "+--------+-------+------+----------+\n",
      "|pipeline|dataset|status|prediction|\n",
      "+--------+-------+------+----------+\n",
      "|       6|     13|     2| 1.9322691|\n",
      "|      20|     13|     1|  1.015556|\n",
      "|      18|     13|     2| 1.0413424|\n",
      "|      19|      6|     1|0.90181816|\n",
      "|       4|      6|     1|0.29677218|\n",
      "+--------+-------+------+----------+\n",
      "only showing top 5 rows\n",
      "\n",
      "round  6\n",
      "+--------+-------+------+----------+\n",
      "|pipeline|dataset|status|prediction|\n",
      "+--------+-------+------+----------+\n",
      "|      26|     12|     1|  0.894339|\n",
      "|       9|     12|     1| 1.0660727|\n",
      "|      17|     13|     1| 1.0721998|\n",
      "|       3|      6|     1| 0.8552748|\n",
      "|      23|      6|     1| 1.1703997|\n",
      "+--------+-------+------+----------+\n",
      "only showing top 5 rows\n",
      "\n",
      "round  7\n",
      "+--------+-------+------+----------+\n",
      "|pipeline|dataset|status|prediction|\n",
      "+--------+-------+------+----------+\n",
      "|      16|     12|     1| 1.0865953|\n",
      "|      25|     13|     2| 1.3707304|\n",
      "|      14|     13|     2|  1.131695|\n",
      "|      18|     13|     2|  1.536401|\n",
      "|      12|      6|     2| 1.2301768|\n",
      "+--------+-------+------+----------+\n",
      "only showing top 5 rows\n",
      "\n",
      "round  8\n",
      "+--------+-------+------+----------+\n",
      "|pipeline|dataset|status|prediction|\n",
      "+--------+-------+------+----------+\n",
      "|      12|     12|     1|  0.830335|\n",
      "|       9|     12|     1|0.85175323|\n",
      "|      23|     12|     1| 0.7935498|\n",
      "|      26|     13|     2| 1.9091625|\n",
      "|       3|      6|     1| 1.2169915|\n",
      "+--------+-------+------+----------+\n",
      "only showing top 5 rows\n",
      "\n",
      "round  9\n",
      "+--------+-------+------+----------+\n",
      "|pipeline|dataset|status|prediction|\n",
      "+--------+-------+------+----------+\n",
      "|       9|     12|     1| 0.9121471|\n",
      "|       9|      6|     1| 1.2094225|\n",
      "|      24|      6|     2| 1.2305155|\n",
      "|      31|     20|     2|   1.91062|\n",
      "|      16|     20|     2| 1.5680369|\n",
      "+--------+-------+------+----------+\n",
      "only showing top 5 rows\n",
      "\n"
     ]
    }
   ],
   "source": [
    "#base = 1\n",
    "#for threshold in np.arange(0.5,2.5,0.1):\n",
    "allFoldsPredictions = []\n",
    "list_pd_allFoldsPredictions = []\n",
    "\n",
    "pd.concat\n",
    "#all_appended_predictions = spark.createDataFrame(['pipeline','dataset','status','prediction'])   #(pd.DataFrame(columns =['pipeline','dataset','status','prediction']))\n",
    "#threshold = 1.5\n",
    "\n",
    "#step = (i/10)\n",
    "#threshold = base + step \n",
    "for k in range (fold_num):\n",
    "    result = allFolds[k]\n",
    "    #result = next(kf.split(df), None)\n",
    "#print (result)\n",
    "\n",
    "    train = df.iloc[result[0]]\n",
    "    test =  df.iloc[result[1]]\n",
    "    spark_train = spark.createDataFrame(train)\n",
    "    spark_test = spark.createDataFrame(test)\n",
    "    #print(type(test))\n",
    "    model = als.fit(spark_train)\n",
    "    predictions = model.transform(spark_test)\n",
    "    pd_predictions = predictions.toPandas()\n",
    "    #all_appended_predictions = all_appended_predictions.union(predictions)\n",
    "    print(\"round \",k)\n",
    "      \n",
    "    predictions.show(5, truncate=True)\n",
    "    pd_predictions[:5]\n",
    "    list_pd_allFoldsPredictions.append(pd_predictions)\n",
    "    #classifiedDF = predictions.withColumn(\"pred_class\", when(col(\"prediction\") >= threshold ,lit(2)).otherwise(lit(1)))\n",
    "    #print(\"min pred in \",k,\" : \")\n",
    "    #minPred = min(predictions.select(min('prediction')))#agg({'prediction': 'min'}),minPred)\n",
    "    #print(\"max pred in \",k,\" : \")\n",
    "    #classifiedDF.agg({'prediction': 'max'}).show()\n",
    "    #maxPred = max(predictions.agg({'prediction': 'max'}),maxPred)\n",
    "\n",
    "\n",
    "\n",
    "concat_list_pd_allFoldsPredictions = pd.concat(list_pd_allFoldsPredictions)\n",
    "\n",
    "\n",
    "\n",
    "####write to DF or CSV then read from that\n",
    "\n"
   ]
  },
  {
   "cell_type": "code",
   "execution_count": 1,
   "metadata": {},
   "outputs": [],
   "source": [
    "#model.save(\"C:\\Concordia_University\\Thesis\\coding\\recommender_codes\\als_spark\\myModel\")"
   ]
  },
  {
   "cell_type": "code",
   "execution_count": null,
   "metadata": {},
   "outputs": [],
   "source": []
  },
  {
   "cell_type": "code",
   "execution_count": 2,
   "metadata": {},
   "outputs": [],
   "source": [
    "#model.productFeatures()"
   ]
  },
  {
   "cell_type": "code",
   "execution_count": 43,
   "metadata": {},
   "outputs": [],
   "source": [
    "#all_appended_predictions.write.csv('C:\\Concordia_University\\Thesis\\coding\\recommender_codes\\als_spark\\all_predictons.csv')\n",
    "#all_appended_predictions.show(25, truncate=True)\n",
    "#panda_all_appended_predictions = all_appended_predictions.select(\"*\").toPandas()"
   ]
  },
  {
   "cell_type": "code",
   "execution_count": 10,
   "metadata": {},
   "outputs": [],
   "source": [
    "#panda_all_appended_predictions.to_csv('all_predictons.csv')\n",
    "concat_list_pd_allFoldsPredictions.to_csv('concat_pd_all_predictons.csv')"
   ]
  },
  {
   "cell_type": "code",
   "execution_count": 13,
   "metadata": {},
   "outputs": [
    {
     "name": "stdout",
     "output_type": "stream",
     "text": [
      "-0.006543159484863281\n",
      "2.369220495223999\n"
     ]
    }
   ],
   "source": [
    "#minPred = panda_all_appended_predictions['prediction'].min()\n",
    "#maxPred = panda_all_appended_predictions['prediction'].max()\n",
    "minPred = concat_list_pd_allFoldsPredictions['prediction'].min()\n",
    "maxPred = concat_list_pd_allFoldsPredictions['prediction'].max()\n",
    "print(minPred)\n",
    "print(maxPred)"
   ]
  },
  {
   "cell_type": "code",
   "execution_count": 15,
   "metadata": {},
   "outputs": [
    {
     "name": "stdout",
     "output_type": "stream",
     "text": [
      "threshold -0.1 avg_TPR 1.0 avg_FPR:  1.0\n",
      "threshold 0.0 avg_TPR 0.9941176470588236 avg_FPR:  1.0\n",
      "threshold 0.1 avg_TPR 0.9869747899159664 avg_FPR:  0.99375\n",
      "threshold 0.20000000000000004 avg_TPR 0.9769747899159664 avg_FPR:  0.99375\n",
      "threshold 0.30000000000000004 avg_TPR 0.9769747899159664 avg_FPR:  0.9760808270676691\n",
      "threshold 0.4 avg_TPR 0.9769747899159664 avg_FPR:  0.968937969924812\n",
      "threshold 0.5000000000000001 avg_TPR 0.9534001292824822 avg_FPR:  0.9543546365914788\n",
      "threshold 0.6000000000000001 avg_TPR 0.9534001292824822 avg_FPR:  0.9090432812801235\n",
      "threshold 0.7000000000000001 avg_TPR 0.9534001292824822 avg_FPR:  0.8493231098107259\n",
      "threshold 0.8 avg_TPR 0.9371501292824822 avg_FPR:  0.8024487548055659\n",
      "threshold 0.9 avg_TPR 0.8965455541190834 avg_FPR:  0.681940215357398\n",
      "threshold 1.0 avg_TPR 0.8569905013287367 avg_FPR:  0.45224609884439604\n",
      "threshold 1.1 avg_TPR 0.7998581483875601 avg_FPR:  0.3019091280236791\n",
      "threshold 1.2 avg_TPR 0.750956690368455 avg_FPR:  0.23908080438653193\n",
      "threshold 1.3 avg_TPR 0.6970596315449257 avg_FPR:  0.17247982796357408\n",
      "threshold 1.4 avg_TPR 0.6661238598003303 avg_FPR:  0.1476899119971875\n",
      "threshold 1.5 avg_TPR 0.6220730086906557 avg_FPR:  0.10489956508919358\n",
      "threshold 1.6 avg_TPR 0.5823916361416361 avg_FPR:  0.09989956508919356\n",
      "threshold 1.7 avg_TPR 0.5011897579544639 avg_FPR:  0.08109004127966976\n",
      "threshold 1.8 avg_TPR 0.37393916540975364 avg_FPR:  0.05474200206398348\n",
      "threshold 1.9 avg_TPR 0.28033532643826764 avg_FPR:  0.028075335397316818\n",
      "threshold 2.0 avg_TPR 0.1309346046110752 avg_FPR:  0.010263157894736842\n",
      "threshold 2.1 avg_TPR 0.0585609243697479 avg_FPR:  0.005\n",
      "threshold 2.2 avg_TPR 0.013392857142857142 avg_FPR:  0.0\n",
      "threshold 2.3000000000000003 avg_TPR 0.013392857142857142 avg_FPR:  0.0\n"
     ]
    }
   ],
   "source": [
    "all_avg_TPR,all_avg_FPR = allThresholds(list_pd_allFoldsPredictions)#,minPred,maxPred)"
   ]
  },
  {
   "cell_type": "code",
   "execution_count": 22,
   "metadata": {},
   "outputs": [],
   "source": [
    "def resultFromFile():\n",
    "    TPR_FPR_results = pd.read_csv('thre_tpr_fpr.csv')\n",
    "\n",
    "    TPR_list = TPR_FPR_results['TPR_avg'].values.tolist() # => [1, 2, 3, 4]\n",
    "    FPR_list = TPR_FPR_results['FPR_avg'].values.tolist()\n",
    "    return(TPR_list,FPR_list)"
   ]
  },
  {
   "cell_type": "code",
   "execution_count": 23,
   "metadata": {},
   "outputs": [],
   "source": [
    "TPR_list,FPR_list = resultFromFile()"
   ]
  },
  {
   "cell_type": "code",
   "execution_count": 12,
   "metadata": {},
   "outputs": [
    {
     "name": "stdout",
     "output_type": "stream",
     "text": [
      "[]\n"
     ]
    }
   ],
   "source": [
    "TPR_list = thre_TPR_FPR['avg_TPR'].values.tolist() # => [1, 2, 3, 4]\n",
    "FPR_list = thre_TPR_FPR['avg_FPR'].values.tolist()\n",
    "print(TPR_list)"
   ]
  },
  {
   "cell_type": "code",
   "execution_count": null,
   "metadata": {},
   "outputs": [],
   "source": [
    "print"
   ]
  },
  {
   "cell_type": "code",
   "execution_count": 16,
   "metadata": {},
   "outputs": [
    {
     "name": "stderr",
     "output_type": "stream",
     "text": [
      "No handles with labels found to put in legend.\n"
     ]
    },
    {
     "data": {
      "image/png": "[encoded data removed]",
      "text/plain": [
       "<Figure size 432x288 with 1 Axes>"
      ]
     },
     "metadata": {
      "needs_background": "light"
     },
     "output_type": "display_data"
    },
    {
     "data": {
      "text/plain": [
       "<Figure size 432x288 with 0 Axes>"
      ]
     },
     "metadata": {},
     "output_type": "display_data"
    }
   ],
   "source": [
    "plt.title('Roc curve')\n",
    "plt.plot(all_avg_FPR,all_avg_TPR, 'b')#, label='AUC = %0.2f')# % roc_auc)\n",
    "plt.legend(loc='lower right')\n",
    "plt.plot([0, 1], [0, 1], 'r--')\n",
    "plt.xlim([0, 1])\n",
    "plt.ylim([0, 1])\n",
    "plt.ylabel('True Positive Rate')\n",
    "plt.xlabel('False Positive Rate')\n",
    "plt.show()\n",
    "plt.savefig('thre_1-2.png')\n"
   ]
  },
  {
   "cell_type": "code",
   "execution_count": 17,
   "metadata": {},
   "outputs": [
    {
     "name": "stdout",
     "output_type": "stream",
     "text": [
      "0.8045637525713133\n"
     ]
    }
   ],
   "source": [
    "AUC = 0\n",
    "for i in range(len(all_avg_TPR)-1):\n",
    "    AUC = AUC + (((all_avg_TPR[i]+all_avg_TPR[i+1])/2) * (all_avg_FPR[i]-all_avg_FPR[i+1]))\n",
    "print(AUC)   \n"
   ]
  },
  {
   "cell_type": "code",
   "execution_count": null,
   "metadata": {},
   "outputs": [],
   "source": []
  }
 ],
 "metadata": {
  "kernelspec": {
   "display_name": "Python 3",
   "language": "python",
   "name": "python3"
  },
  "language_info": {
   "codemirror_mode": {
    "name": "ipython",
    "version": 3
   },
   "file_extension": ".py",
   "mimetype": "text/x-python",
   "name": "python",
   "nbconvert_exporter": "python",
   "pygments_lexer": "ipython3",
   "version": "3.7.3"
  }
 },
 "nbformat": 4,
 "nbformat_minor": 2
}
