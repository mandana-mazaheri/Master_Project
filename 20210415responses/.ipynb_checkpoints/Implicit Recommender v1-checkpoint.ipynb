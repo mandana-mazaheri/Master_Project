{
 "cells": [
  {
   "cell_type": "markdown",
   "metadata": {},
   "source": [
    "nstalled Package : <br>\n",
    ":\\Installed_Softwares\\anaconda3\\Lib\\site-packages\\implicit"
   ]
  },
  {
   "cell_type": "code",
   "execution_count": null,
   "metadata": {},
   "outputs": [],
   "source": [
    "import os\n",
    "import sys"
   ]
  },
  {
   "cell_type": "code",
   "execution_count": null,
   "metadata": {},
   "outputs": [],
   "source": [
    "import logging\n",
    "import time"
   ]
  },
  {
   "cell_type": "code",
   "execution_count": null,
   "metadata": {},
   "outputs": [],
   "source": [
    "import numpy as np\n",
    "import tqdm"
   ]
  },
  {
   "cell_type": "code",
   "execution_count": null,
   "metadata": {},
   "outputs": [],
   "source": [
    "import codecs\n",
    "import h5py\n",
    "from scipy.sparse import coo_matrix, csr_matrix\n",
    "from scipy import sparse"
   ]
  },
  {
   "cell_type": "code",
   "execution_count": null,
   "metadata": {},
   "outputs": [],
   "source": [
    "import implicit\n",
    "from implicit.als import AlternatingLeastSquares\n",
    "from implicit.nearest_neighbours import BM25Recommender, CosineRecommender, TFIDFRecommender, bm25_weight"
   ]
  },
  {
   "cell_type": "code",
   "execution_count": null,
   "metadata": {},
   "outputs": [],
   "source": [
    "import sqlite3\n",
    "from sqlite3 import Error"
   ]
  },
  {
   "cell_type": "code",
   "execution_count": null,
   "metadata": {},
   "outputs": [],
   "source": [
    "from implicit.datasets.lastfm import get_lastfm"
   ]
  },
  {
   "cell_type": "code",
   "execution_count": null,
   "metadata": {},
   "outputs": [],
   "source": [
    "def calculate_recommendations():"
   ]
  },
  {
   "cell_type": "code",
   "execution_count": null,
   "metadata": {},
   "outputs": [],
   "source": [
    "\t\t# row indices\n",
    "\trow_ind = np.array([0, 1, 1, 3, 4])\n",
    "\t# column indices\n",
    "\tcol_ind = np.array([0, 2, 4, 3, 4])\n",
    "\t# data to be stored in COO sparse matrix\n",
    "\tdata = np.array([-100, -200, 300, -4000, 50000], dtype=float)\n",
    "\tdata = sparse.csr_matrix((data, (row_ind, col_ind)))\n",
    "\tprint(data.toarray())\n",
    "\t\n",
    "\tmodel = AlternatingLeastSquares(factors = 64, dtype = np.float32)\n",
    "\tmodel.fit(data, show_progress=False)\n",
    "\t\n",
    "\tfittedData = np.copy(data.toarray())\n",
    "\tfor rowIndex in range(5):\n",
    "\t\tscore = model.recommend(rowIndex, data)\n",
    "\t\t#print(rowIndex,  score)\n",
    "\t\tfor item in score:\n",
    "\t\t\tcolumnNumber = item[0]\n",
    "\t\t\tfittedData[rowIndex, item[0]] = round(item[1], 2)\n",
    "\tprint(fittedData)\n",
    "\t\n",
    "\tsys.exit(0)"
   ]
  },
  {
   "cell_type": "markdown",
   "metadata": {},
   "source": [
    "\t\n",
    " Generates artist recommendations for each user in the dataset \n",
    "<br>\n",
    "\t# train the model based off input params<br>\n",
    "\t<br>\n",
    "\t#INFO:implicit:Using cached dataset at 'C:\\Users\\mmNabi\\implicit_datasets\\lastfm_360k.hdf5'<br>\n",
    "\t#More info @ https://www.christopherlovell.co.uk/blog/2016/04/27/h5py-intro.html<br>\n",
    "\tartists, users, plays = get_lastfm()<br>\n"
   ]
  },
  {
   "cell_type": "code",
   "execution_count": null,
   "metadata": {},
   "outputs": [],
   "source": [
    "\twith h5py.File('../../../Datasets/lastfm_360k.hdf5', 'r') as f:\n",
    "\t\t#<KeysViewHDF5 ['artist', 'artist_user_plays', 'user']>\n",
    "\t\tprint(f.keys())\n",
    "\t\tm = f.get('artist_user_plays')\n",
    "\t\tplays = csr_matrix((m.get('data'), m.get('indices'), m.get('indptr')))\n",
    "\t\tartists, users, plays =  np.array(f['artist']), np.array(f['user']), plays\n",
    "\t'''"
   ]
  },
  {
   "cell_type": "code",
   "execution_count": null,
   "metadata": {},
   "outputs": [],
   "source": [
    "\tconn = sqlite3.connect('../../../Datasets/CONP.db')\n",
    "\tcur = conn.cursor()\n",
    "\tcur.execute(\"SELECT * FROM summary_results\")\n",
    "\trows = cur.fetchall()\n",
    "\t#(1, 'a7f11079d50f7a5d5582986486866d42', None, 'zenodo.3240521', 'fslstats', '0')\n",
    "\t#Dataset Name : None\n",
    "\t#Pipeline : fslstats\n",
    "\t#Result : 0\n",
    "\tprint(rows[0])"
   ]
  },
  {
   "cell_type": "code",
   "execution_count": null,
   "metadata": {},
   "outputs": [],
   "source": [
    "\tprint(\"artists : \", len (artists))\n",
    "\tprint(artists[0:10])\n",
    "\tprint(\"users : \", len (users))\n",
    "\tprint(users[0:10])\n",
    "\tprint(\"plays : \", plays.get_shape())\n",
    "\tprint(plays[0:10, 0:10].toarray())"
   ]
  },
  {
   "cell_type": "code",
   "execution_count": null,
   "metadata": {},
   "outputs": [],
   "source": [
    "\t"
   ]
  },
  {
   "cell_type": "code",
   "execution_count": null,
   "metadata": {},
   "outputs": [],
   "source": [
    "\t# create a model from the input data\n",
    "\t'''\n",
    "\tfactors=100, regularization=0.01, dtype=np.float32,\n",
    "\t\t\t\t use_native=True, use_cg=True, use_gpu=implicit.cuda.HAS_CUDA,\n",
    "\t\t\t\t iterations=15, calculate_training_loss=False, num_threads=0,\n",
    "\t\t\t\t random_state=None\n",
    "\t'''\n",
    "\tmodel = AlternatingLeastSquares(factors = 64, dtype = np.float32)"
   ]
  },
  {
   "cell_type": "code",
   "execution_count": null,
   "metadata": {},
   "outputs": [],
   "source": [
    "\tlogging.debug(\"weighting matrix by bm25_weight\")\n",
    "\tplays = bm25_weight(plays, K1=100, B=0.8)\n",
    "\tprint(\"plays : \")\n",
    "\tprint(plays)"
   ]
  },
  {
   "cell_type": "code",
   "execution_count": null,
   "metadata": {},
   "outputs": [],
   "source": [
    "\t# also disable building approximate recommend index\n",
    "\tmodel.approximate_similar_items = False"
   ]
  },
  {
   "cell_type": "code",
   "execution_count": null,
   "metadata": {},
   "outputs": [],
   "source": [
    "\t# this is actually disturbingly expensive:\n",
    "\tplays = plays.tocsr()\n",
    "\tprint(\"plays :\")\n",
    "\tprint(plays)"
   ]
  },
  {
   "cell_type": "code",
   "execution_count": null,
   "metadata": {},
   "outputs": [],
   "source": [
    "\tlogging.debug(\"training model ALS\")\n",
    "\tstart = time.time()"
   ]
  },
  {
   "cell_type": "markdown",
   "metadata": {},
   "source": [
    "\t\n",
    "<br>\n",
    "\tDEBUG:implicit:Calculated transpose in 0.913s<br>\n",
    "\tDEBUG:implicit:Initialized factors in 0.8054990768432617<br>\n",
    "\tDEBUG:implicit:Running 15 ALS iterations<br>\n"
   ]
  },
  {
   "cell_type": "code",
   "execution_count": null,
   "metadata": {},
   "outputs": [],
   "source": [
    "\tmodel.fit(plays)\t\t\t#Takes time to fit the model"
   ]
  },
  {
   "cell_type": "markdown",
   "metadata": {},
   "source": [
    "\t\n",
    "<br>\n",
    "\tDEBUG:root:trained model ALS in 85.18s<br>\n"
   ]
  },
  {
   "cell_type": "code",
   "execution_count": null,
   "metadata": {},
   "outputs": [],
   "source": [
    "\tlogging.debug(\"trained model ALS in %0.2fs\", time.time() - start)"
   ]
  },
  {
   "cell_type": "code",
   "execution_count": null,
   "metadata": {},
   "outputs": [],
   "source": [
    "\t# generate recommendations for each user and write out to a file\n",
    "\tstart = time.time()\n",
    "\tuser_plays = plays.T.tocsr()\n",
    "\twith tqdm.tqdm(total=len(users)) as progress:\n",
    "\t\twith codecs.open(output_filename, \"w\", \"utf8\") as o:\n",
    "\t\t\tfor userid, username in enumerate(users):\n",
    "\t\t\t\tfor artistid, score in model.recommend(userid, user_plays):\n",
    "\t\t\t\t\to.write(\"%s\\t%s\\t%s\\n\" % (username, artists[artistid], score))\n",
    "\t\t\t\tprogress.update(1)\n",
    "\tlogging.debug(\"generated recommendations in %0.2fs\",  time.time() - start)"
   ]
  },
  {
   "cell_type": "code",
   "execution_count": null,
   "metadata": {},
   "outputs": [],
   "source": [
    "if __name__ == \"__main__\":\n",
    "\tlogging.basicConfig(level=logging.DEBUG)"
   ]
  },
  {
   "cell_type": "code",
   "execution_count": null,
   "metadata": {},
   "outputs": [],
   "source": [
    "\tcalculate_recommendations()"
   ]
  }
 ],
 "metadata": {
  "kernelspec": {
   "display_name": "Python 3",
   "language": "python",
   "name": "python3"
  },
  "language_info": {
   "codemirror_mode": {
    "name": "ipython",
    "version": 3
   },
   "file_extension": ".py",
   "mimetype": "text/x-python",
   "name": "python",
   "nbconvert_exporter": "python",
   "pygments_lexer": "ipython3",
   "version": "3.8.3"
  }
 },
 "nbformat": 4,
 "nbformat_minor": 2
}
